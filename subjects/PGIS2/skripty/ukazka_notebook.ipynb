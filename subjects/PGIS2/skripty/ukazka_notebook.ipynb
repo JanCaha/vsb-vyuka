{
 "cells": [
  {
   "cell_type": "markdown",
   "id": "1bc69f07",
   "metadata": {},
   "source": [
    "# Ukázka použití knihoven pro tvorbu grafů\n",
    "\n",
    "Ukázky tvorby grafů pomocí knihoven `matplotlib` a `plotnine`."
   ]
  },
  {
   "cell_type": "code",
   "execution_count": null,
   "id": "b0bf7126",
   "metadata": {},
   "outputs": [],
   "source": [
    "import matplotlib\n",
    "import matplotlib.pyplot as plt\n",
    "import numpy as np\n",
    "import pandas as pd\n",
    "from plotnine import aes, element_text, geom_line, geom_point, ggplot, labs, scale_color_continuous, theme"
   ]
  },
  {
   "cell_type": "code",
   "execution_count": null,
   "id": "cd535ab0",
   "metadata": {},
   "outputs": [],
   "source": [
    "# Vytvoření dvou proměnných s 15 náhodnými hodnotami\n",
    "x = np.random.rand(15)\n",
    "y = np.random.rand(15)\n",
    "# Vytvoření proměnné z s 15 náhodnými hodnotami z rozsahu 100 až 500\n",
    "z = np.random.randint(100, 501, size=15)\n",
    "\n",
    "# Spojení do pandas dataframe\n",
    "df = pd.DataFrame({\"x\": x, \"y\": y, \"z\": z})"
   ]
  },
  {
   "cell_type": "code",
   "execution_count": null,
   "id": "962463e0",
   "metadata": {},
   "outputs": [],
   "source": [
    "# matplotlib z dat numpy array\n",
    "fig, ax = plt.subplots()\n",
    "ax.scatter(x, y)\n",
    "ax.set_title(\"Bodový graf\")\n",
    "ax.set_xlabel(\"x\")\n",
    "ax.set_ylabel(\"y\")\n",
    "plt.show()"
   ]
  },
  {
   "cell_type": "code",
   "execution_count": null,
   "id": "ecfa2be0",
   "metadata": {},
   "outputs": [],
   "source": [
    "# matplotlib z pandas dataframe\n",
    "fig, ax = plt.subplots()\n",
    "scatter = ax.scatter(df[\"x\"], df[\"y\"], c=df[\"z\"], cmap=\"viridis\")\n",
    "fig.colorbar(scatter, ax=ax, label=\"Hodnota z\")\n",
    "\n",
    "ax.set_title(\"Bodový graf\")\n",
    "ax.set_xlabel(\"x\")\n",
    "ax.set_ylabel(\"y\")\n",
    "plt.show()"
   ]
  },
  {
   "cell_type": "code",
   "execution_count": null,
   "id": "9cea8cf4",
   "metadata": {
    "vscode": {
     "languageId": "r"
    }
   },
   "outputs": [],
   "source": [
    "# plotnine na základě pandas dataframe \n",
    "plot = (\n",
    "    ggplot(df, aes(x=\"x\", y=\"y\", color=\"z\"))\n",
    "    + geom_point(size=5)\n",
    "    + scale_color_continuous(\"viridis\")\n",
    "    + labs(title=\"Scatter Plot\", x=\"x\", y=\"y\")\n",
    ")\n",
    "plot"
   ]
  },
  {
   "cell_type": "code",
   "execution_count": null,
   "id": "7f93acee",
   "metadata": {},
   "outputs": [],
   "source": [
    "# plotnine liniový a bodový graf\n",
    "plot = (\n",
    "    ggplot(df, aes(x=\"x\", y=\"y\"))\n",
    "    + geom_line(color=\"blue\", size=1, linetype=\"solid\", alpha=0.8)\n",
    "    + geom_point(color=\"blue\", size=3)\n",
    "    + labs(\n",
    "        title=\"Liniový graf\",\n",
    "        x=\"x\",\n",
    "        y=\"y\",\n",
    "    )\n",
    "    + theme(\n",
    "        plot_title=element_text(size=16, weight=\"bold\"),\n",
    "        axis_title_x=element_text(size=14),\n",
    "        axis_title_y=element_text(size=14),\n",
    "        axis_text=element_text(size=12),\n",
    "        panel_grid_major=element_text(alpha=0.6),\n",
    "        panel_grid_minor=element_text(alpha=0.3),\n",
    "    )\n",
    ")\n",
    "plot"
   ]
  }
 ],
 "metadata": {
  "kernelspec": {
   "display_name": "Python 3",
   "language": "python",
   "name": "python3"
  },
  "language_info": {
   "codemirror_mode": {
    "name": "ipython",
    "version": 3
   },
   "file_extension": ".py",
   "mimetype": "text/x-python",
   "name": "python",
   "nbconvert_exporter": "python",
   "pygments_lexer": "ipython3",
   "version": "3.11.11"
  }
 },
 "nbformat": 4,
 "nbformat_minor": 5
}
